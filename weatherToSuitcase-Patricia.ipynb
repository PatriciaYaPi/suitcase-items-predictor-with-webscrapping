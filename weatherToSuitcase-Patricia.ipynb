{
 "cells": [
  {
   "cell_type": "code",
   "execution_count": null,
   "id": "1cafa779",
   "metadata": {},
   "outputs": [],
   "source": [
    "#WEATHER CONDITIONS TO ITEMS TO SEARCH:\n",
    "######################################\n",
    "\n",
    "#developer: Patricia Yañez Piqueras"
   ]
  },
  {
   "cell_type": "code",
   "execution_count": 2,
   "id": "e27c6c00",
   "metadata": {},
   "outputs": [
    {
     "data": {
      "text/plain": [
       "{'location': 'Lisbon',\n",
       " 'date': '2022-09-21',\n",
       " 'maxTemperature': 25.6,\n",
       " 'minTemperature': 17.4,\n",
       " 'feeling': 28.9,\n",
       " 'humidity': 71.1,\n",
       " 'rainProb': 4.8}"
      ]
     },
     "execution_count": 2,
     "metadata": {},
     "output_type": "execute_result"
    }
   ],
   "source": [
    "# INPUTS:\n",
    "#########\n",
    "weather_conditions = {}\n",
    "\n",
    "weather_conditions['location']='Lisbon'\n",
    "weather_conditions['date']='2022-09-21'\n",
    "weather_conditions['maxTemperature']=25.6\n",
    "weather_conditions['minTemperature']=17.4\n",
    "weather_conditions['feeling']=28.9\n",
    "weather_conditions['humidity']=71.1\n",
    "weather_conditions['rainProb']=4.8\n",
    "\n",
    "\"\"\"\n",
    "{'location': 'Lisbon',\n",
    " 'date': '2022-09-21',\n",
    " 'maxTemperature': 25.6,\n",
    " 'minTemperature': 17.4,\n",
    " 'feeling': 28.9,\n",
    " 'humidity': 71.1,\n",
    " 'rainProb': 4.8}\n",
    "\n",
    "\"\"\"\n",
    "weather_conditions"
   ]
  },
  {
   "cell_type": "code",
   "execution_count": 3,
   "id": "a36e40aa",
   "metadata": {},
   "outputs": [
    {
     "data": {
      "text/plain": [
       "\"\\n#types of suitcase\\nfinal_suitcase =[]\\n\\n#Is it for male or female? Let's suppose is male:\\nismale=1\\n\\nwinter_items = ['wool+hat','wool+gloves','winter+boots', 'cozy+jumper']\\nautumn_spring_items=['trousers','jumper','sunglasses']\\nsummer_items=['summer+dress']\\n\\ntropical_items =['mosquito+repellent+spray']\\n\\nbeach_pool_items =['suncream', 'sunglasses', 'bikini','beach+hat','beach+towel']\\n\\nrainy_items=['compact+umbrella','rain+coat']\\nsuper_rainy_times=['wellies']\\n\\n\""
      ]
     },
     "execution_count": 3,
     "metadata": {},
     "output_type": "execute_result"
    }
   ],
   "source": [
    "######################################\n",
    "#                                    #\n",
    "#   OPTION 1: NO GENDER INVOLVED     # NOT USED, BETTER WITH GENDER. BELLOW\n",
    "#                                    #\n",
    "######################################\n",
    "\n",
    "\"\"\"\n",
    "#types of suitcase\n",
    "final_suitcase =[]\n",
    "\n",
    "#Is it for male or female? Let's suppose is male:\n",
    "ismale=1\n",
    "\n",
    "winter_items = ['wool+hat','wool+gloves','winter+boots', 'cozy+jumper']\n",
    "autumn_spring_items=['trousers','jumper','sunglasses']\n",
    "summer_items=['summer+dress']\n",
    "\n",
    "tropical_items =['mosquito+repellent+spray']\n",
    "\n",
    "beach_pool_items =['suncream', 'sunglasses', 'bikini','beach+hat','beach+towel']\n",
    "\n",
    "rainy_items=['compact+umbrella','rain+coat']\n",
    "super_rainy_times=['wellies']\n",
    "\n",
    "\"\"\""
   ]
  },
  {
   "cell_type": "code",
   "execution_count": 4,
   "id": "acf80eb6",
   "metadata": {},
   "outputs": [
    {
     "data": {
      "text/plain": [
       "'\\ndef add_items_to_suitcase(items):\\n    final_suitcase.extend(items)\\n'"
      ]
     },
     "execution_count": 4,
     "metadata": {},
     "output_type": "execute_result"
    }
   ],
   "source": [
    "\"\"\"\n",
    "def add_items_to_suitcase(items):\n",
    "    final_suitcase.extend(items)\n",
    "\"\"\""
   ]
  },
  {
   "cell_type": "code",
   "execution_count": 5,
   "id": "e4dc9b2b",
   "metadata": {},
   "outputs": [
    {
     "data": {
      "text/plain": [
       "\"\\n#Add items to my suitcase:\\n\\n#Based on temperature:\\nif weather_conditions['minTemperature'] < 10:\\n    add_items_to_suitcase(winter_items)\\nelif weather_conditions['minTemperature'] < 20:\\n    add_items_to_suitcase(autumn_spring_items)\\nelse:\\n    add_items_to_suitcase(summer_items)\\n    if weather_conditions['minTemperature'] > 28:\\n        add_items_to_suitcase(beach_pool_items)\\n\\n#Based on rainy probability:\\nif weather_conditions['rainProb']>50 and weather_conditions['minTemperature'] < 18: #too rainy but not too hot\\n    add_items_to_suitcase(super_rainy_times)   \\nif weather_conditions['rainProb']>20:  \\n    add_items_to_suitcase(rainy_items)\\n\\n#Based on humidity:\\nif weather_conditions['humidity']>50:\\n    add_items_to_suitcase(tropical_items)\\n\\nfinal_suitcase\\n\""
      ]
     },
     "execution_count": 5,
     "metadata": {},
     "output_type": "execute_result"
    }
   ],
   "source": [
    "\"\"\"\n",
    "#Add items to my suitcase:\n",
    "\n",
    "#Based on temperature:\n",
    "if weather_conditions['minTemperature'] < 10:\n",
    "    add_items_to_suitcase(winter_items)\n",
    "elif weather_conditions['minTemperature'] < 20:\n",
    "    add_items_to_suitcase(autumn_spring_items)\n",
    "else:\n",
    "    add_items_to_suitcase(summer_items)\n",
    "    if weather_conditions['minTemperature'] > 28:\n",
    "        add_items_to_suitcase(beach_pool_items)\n",
    "\n",
    "#Based on rainy probability:\n",
    "if weather_conditions['rainProb']>50 and weather_conditions['minTemperature'] < 18: #too rainy but not too hot\n",
    "    add_items_to_suitcase(super_rainy_times)   \n",
    "if weather_conditions['rainProb']>20:  \n",
    "    add_items_to_suitcase(rainy_items)\n",
    "\n",
    "#Based on humidity:\n",
    "if weather_conditions['humidity']>50:\n",
    "    add_items_to_suitcase(tropical_items)\n",
    "\n",
    "final_suitcase\n",
    "\"\"\"     "
   ]
  },
  {
   "cell_type": "code",
   "execution_count": 9,
   "id": "e2ceac60",
   "metadata": {},
   "outputs": [],
   "source": [
    "######################################\n",
    "#                                    #\n",
    "#    OPTION 2: GENDER INVOLVED       #\n",
    "#                                    #\n",
    "######################################\n",
    "\n",
    "##########################################\n",
    "#let's distinguish between male or female\n",
    "#########################################\n",
    "\n",
    "#types of suitcase\n",
    "final_suitcase =[]\n",
    "\n",
    "\n",
    "winter_items ={ \n",
    "                'male':['wool+hat+men','wool+gloves+men','winter+boots+men', 'cozy+jumper+men'],\n",
    "                'female':['wool+hat+women','wool+gloves+women','winter+boots+women', 'cozy+jumper+women'],\n",
    "                'unknown':['wool+hat','wool+gloves','winter+boots', 'cozy+jumper']\n",
    "              } \n",
    "autumn_spring_items={ \n",
    "                'male':['trousers+men','jumper+men','sunglasses+men'],\n",
    "                'female':['trousers+women','jumper+women','sunglasses+women'],\n",
    "                'unknown':[]\n",
    "              }\n",
    "summer_items={ \n",
    "                'male':['t-shirt+men','shorts+men'],\n",
    "                'female':['summer+dress+women','shorts+women','t-shirt+women'],\n",
    "                'unknown':['trousers','jumper','sunglasses']\n",
    "              }\n",
    "\n",
    "tropical_items={ \n",
    "                'male':['mosquito+repellent+spray','hawaiian+shirt+men'],\n",
    "                'female':['mosquito+repellent+spray'],\n",
    "                'unknown':['mosquito+repellent+spray']\n",
    "              }\n",
    "\n",
    "beach_pool_items={ \n",
    "                'male':['suncream', 'sunglasses+men', 'swimsuit+men','beach+hat','beach+towel+men'],\n",
    "                'female':['suncream', 'sunglasses+women', 'bikini+women','beach+hat+women','beach+towel+women'],\n",
    "                'unknown':['suncream', 'sunglasses', 'bikini','beach+hat','beach+towel']\n",
    "              }\n",
    "\n",
    "rainy_items={ \n",
    "                'male':['compact+umbrella+men','rain+coat+men'],\n",
    "                'female':['compact+umbrella+women','rain+coat+women'],\n",
    "                'unknown':['compact+umbrella','rain+coat+unisex']\n",
    "              }\n",
    "super_rainy_times={ \n",
    "                'male':['wellies+men','rain+coat+men'],\n",
    "                'female':['wellies+women','rain+coat+women'],\n",
    "                'unknown':['wellies','rain+coat']\n",
    "              }\n"
   ]
  },
  {
   "cell_type": "code",
   "execution_count": 10,
   "id": "b8c1217c",
   "metadata": {},
   "outputs": [],
   "source": [
    "#add items to list (suitcase) avoiding duplication:\n",
    "def add_items_to_suitcase_on_gender(ismale,items):\n",
    "    if gender=='male':      \n",
    "        [final_suitcase.append(x) for x in items['male'] if x not in final_suitcase]\n",
    "    elif gender=='female':\n",
    "        [final_suitcase.append(x) for x in items['female'] if x not in final_suitcase]\n",
    "    elif gender=='unknown':\n",
    "        [final_suitcase.append(x) for x in items['unknown'] if x not in final_suitcase]"
   ]
  },
  {
   "cell_type": "code",
   "execution_count": 11,
   "id": "58eecd10",
   "metadata": {},
   "outputs": [
    {
     "data": {
      "text/plain": [
       "['trousers', 'jumper', 'sunglasses', 'mosquito+repellent+spray']"
      ]
     },
     "execution_count": 11,
     "metadata": {},
     "output_type": "execute_result"
    }
   ],
   "source": [
    "#Add items to my suitcase:\n",
    "\n",
    "#Is it for male or female? Let's suppose is male:\n",
    "gender='unknown'\n",
    "final_suitcase =[]\n",
    "\n",
    "#Based on temperature:\n",
    "if weather_conditions['maxTemperature'] < 10:\n",
    "    add_items_to_suitcase_on_gender(ismale,winter_items)\n",
    "elif weather_conditions['maxTemperature'] < 20:\n",
    "    add_items_to_suitcase_on_gender(ismale,autumn_spring_items)\n",
    "else:\n",
    "    add_items_to_suitcase_on_gender(ismale,summer_items)\n",
    "    if weather_conditions['maxTemperature'] > 28:\n",
    "        add_items_to_suitcase_on_gender(ismale,beach_pool_items)\n",
    "\n",
    "#Based on rainy probability:\n",
    "if weather_conditions['rainProb']>50 and weather_conditions['minTemperature'] < 18: #too rainy but not too hot\n",
    "    add_items_to_suitcase_on_gender(ismale,super_rainy_times)   \n",
    "if weather_conditions['rainProb']>20:  \n",
    "    add_items_to_suitcase_on_gender(ismale,rainy_items)\n",
    "\n",
    "\n",
    "#Based on humidity and month of travel: mosquitos from may to october\n",
    "if 5<=int(weather_conditions['date'][5:7])<=10 and weather_conditions['humidity']>50:\n",
    "    add_items_to_suitcase_on_gender(ismale,tropical_items)    \n",
    "\n",
    "final_suitcase"
   ]
  },
  {
   "cell_type": "code",
   "execution_count": 21,
   "id": "a6cc401d",
   "metadata": {},
   "outputs": [],
   "source": [
    "#wirte suitcase as a txt\n",
    "textfile = open(\"suitcase_items_to_search_on_amazon.txt\", \"w\")\n",
    "for i,item in enumerate(final_suitcase):\n",
    "    if i<len(final_suitcase)-1:\n",
    "        textfile.write(item + \",\")\n",
    "    else: #I don't wont the last , to be incluided on the txt file\n",
    "        textfile.write(item)\n",
    "textfile.close()"
   ]
  },
  {
   "cell_type": "code",
   "execution_count": null,
   "id": "527ae47f",
   "metadata": {},
   "outputs": [],
   "source": []
  }
 ],
 "metadata": {
  "kernelspec": {
   "display_name": "Python 3 (ipykernel)",
   "language": "python",
   "name": "python3"
  },
  "language_info": {
   "codemirror_mode": {
    "name": "ipython",
    "version": 3
   },
   "file_extension": ".py",
   "mimetype": "text/x-python",
   "name": "python",
   "nbconvert_exporter": "python",
   "pygments_lexer": "ipython3",
   "version": "3.9.7"
  }
 },
 "nbformat": 4,
 "nbformat_minor": 5
}
